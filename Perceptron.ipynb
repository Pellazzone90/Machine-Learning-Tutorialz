{
 "cells": [
  {
   "cell_type": "markdown",
   "id": "c145dc89",
   "metadata": {},
   "source": [
    "### Come impara il Perceptron di Rosenblatt:\n",
    "\n",
    "Si basa su un approccio riduzionista che replica il funzionamento del neurone cerebrale il quale *reagisce* o *non reagisce*. \\\n",
    "Si parte quindi definendo una funzione decisionale a passo unitario, $\\phi(z)$ che prende una combinazione lineare (**z**) tra il vettore dei valori di input $\\mathbf{x}$ ed un corrispondente vettore dei pesi $\\mathbf{w}$ e lo trasforma in un output binario (+1; -1) che nel nostro caso rappresenterà il valore dell'etichetta della classe che viene predetta.\n",
    "\n",
    "La funzione decisionale contiene una soglia $\\theta$ di attivazione, quando z è maggiore della soglia la funzione restituisce 1, altrimenti -1. Questo ci permette di definire un peso zero $w_0=-\\theta$, per tanto possiamo scrivere: \\\n",
    "$z = w_0x_0 +...+ w_mx_m = \\mathbf{w^{T}x}$ \n",
    "\n",
    "Possiamo descrivere l'algoritmo di un *Perceptron* in questo modo:\n",
    "1. Inizializzare i pesi a 0 o a piccoli numeri casuali\n",
    "2. Per ogni campione di addestramento $\\mathbf{x}^{(i)}$ :\n",
    "   - Calcolare il valore di output $\\hat{y}$\n",
    "   - Aggiornare i pesi\n",
    "\n",
    "L'aggiornamento del vettore dei pesi $\\mathbf{w}$ è definito come: \\\n",
    "$w_j := w_j + \\Delta w_j$ in cui $\\Delta w_j = \\eta (y^{(i)} - \\hat{y}^{(i)})x_j^{(i)}$ \\\n",
    "Dove $\\eta$ rappresenta il *tasso di apprendimento* (cioè una costante compresa tra 0.0 e 1.0)\n",
    "che moltiplica la differenza tra l'effettiva etichetta della classe per l'i-esimo esempio di addestramento e l'etichetta della classe che è stata predetta (correttamente o meno che sia). \\\n",
    "Facciamo un esempio.  In un caso bidimensionale per uno scenario in cui il *Perceptron* predica correttamente avremo:\n",
    "1. $y^{(i)} = -1$, $\\hat{y}^{(i)} = -1$ *implica* $\\Delta w_j= \\eta(-1 - (-1))x_j^{(i)} = 0$ \n",
    "2. $y^{(i)} = 1$, $\\hat{y}^{(i)} = 1$ *implica* $\\Delta w_j= \\eta(1 - (1))x_j^{(i)} = 0$\\\n",
    "Al contrario nel caso di una predizione errata i pesi verranno spinti verso la classe corretta: \n",
    "3. 1. $y^{(i)} = 1$, $\\hat{y}^{(i)} = -1$ *implica* $\\Delta w_j= \\eta(1 - (-1))x_j^{(i)} = \\eta (2)x_j^{(i)}$ \n",
    "4. 1. $y^{(i)} = -1$, $\\hat{y}^{(i)} = 1$ *implica* $\\Delta w_j= \\eta(1 - (-1))x_j^{(i)} = \\eta (-2)x_j^{(i)}$ \n",
    "\n",
    "Prendiamo come riferimento l'esempio 3 e supponiamo che $\\eta = 1$, $x_j^{(i)}=0,5$ \\\n",
    "$\\Delta w_j = (1-(-1))0,5 = (2)0,5 = 1$ \\\n",
    "In questo caso aumenteremo il peso corrispondente di 1 in modo che l'input della rete sia più positivo la prossima volta che verrà eseminato e per tanto sarà maggiore la probabilità di superare sopra la soglia della funzione a passo unitario. \\\n",
    "L'aggiornamento dei pesi è dunque proporzionale al valore $x_j$ ed è importante notare che tutti i pesi vengono aggiornati smultaneamente e solo dopo vengono ricalcolate le classi predette. \\\n",
    "**NB:** Il *Perceptron* può funzionare solo se le due classi sono separabili in modo lineare e se il tasso di apprendimento è sufficientemente piccolo. \\\n",
    "Se le due classi non fossero separabili linearmente il *Perceptron* non convergerebbe mai non smettendo mai di aggiornare il suo vettorei dei pesi. \\\n",
    "Per ovviare a tale problema si può definire un numero massimo di passi sul dataset di addestramento, quindi un numero massimo di aggiornamenti dei pesi. Tale soglia si chiama *EPOCHE*"
   ]
  },
  {
   "cell_type": "code",
   "execution_count": 68,
   "id": "d2b94f45",
   "metadata": {},
   "outputs": [],
   "source": [
    "#Imports librerie:\n",
    "import numpy as np\n",
    "import os\n",
    "import pandas as pd\n",
    "from pathlib import Path\n",
    "import matplotlib.pyplot as plt\n",
    "from matplotlib.colors import ListedColormap"
   ]
  },
  {
   "cell_type": "code",
   "execution_count": 64,
   "id": "73ead256",
   "metadata": {},
   "outputs": [],
   "source": [
    "# DEFINIZIONE DELLA CLASSE PERCEPTRON\n",
    "# Per convenzione con il pedice \"_\" si indicano le variabili/attributi che \n",
    "#non vengono creati al momento dell'inizializzazione dell'oggetto\n",
    "\n",
    "class Perceptron(object):\n",
    "    \"\"\"Perceptron Classifier\n",
    "    Parametri:\n",
    "    ---------------------------------------\n",
    "    eta : float\n",
    "        rappresenta il tasso di apprendimento (tra 0.0 e 1.0)\n",
    "    n_iter: int\n",
    "        rappresenta le Epoche, i passaggi sul training set\n",
    "    random_state: int\n",
    "        rappresenta il seed di generazione random per i pesi\n",
    "    \n",
    "    Attributi:\n",
    "    ---------------------------------------\n",
    "    w_ : 1d-array\n",
    "        rappresenta l'arrey monodimensionale dei pesi dopo il fitting\n",
    "    errors_ : list\n",
    "        rappresenta la lista delle classificazioni errate (updates) in ogni epoca \n",
    "    \"\"\"\n",
    "    def __init__(self, eta=0.01, n_iter=50, random_state=1):\n",
    "        self.eta = eta\n",
    "        self.n_iter = n_iter\n",
    "        self.random_state = random_state\n",
    "\n",
    "    def fit(self, X, y):\n",
    "        \"\"\"La funzione per fittare il dataset di addestramento:\n",
    "        Parametri:\n",
    "        ---------------------------------------\n",
    "        X : {array-lie}, shape = [n_esempi, n_features]\n",
    "            Il set dei vettori di allenamento, dove n_esempi è il numero di esempi\n",
    "            mentre n_features è il numero delle features di ogni esempio\n",
    "        y : array-like, shape = [n_esempi]\n",
    "        rappresenta la variabile target da predirre\n",
    "        \n",
    "        Returns:\n",
    "        ---------------------------------------\n",
    "        self : object\n",
    "        \"\"\"\n",
    "        rgen = np.random.RandomState(self.random_state)\n",
    "        self.w_ = rgen.normal(loc=0.0,\n",
    "                             scale=0.01,\n",
    "                             size=1 + X.shape[1]\n",
    "                             )\n",
    "        self.errors_ = []\n",
    "    \n",
    "        for i in range(self.n_iter):\n",
    "            errors = 0\n",
    "            for xi, target in zip(X, y):\n",
    "                update = self.eta * (target - self.predict(xi))\n",
    "                self.w_[1:] += update * xi\n",
    "                self.w_[0] += update\n",
    "                errors += int(update != 0.0)\n",
    "            self.errors_.append(errors)\n",
    "        return self\n",
    "        \n",
    "    def net_input(self, X):\n",
    "        \"\"\"Calcola l'input\"\"\"\n",
    "        return np.dot(X, self.w_[1:]) + self.w_[0]\n",
    "    \n",
    "    def predict(self, X):\n",
    "        \"\"\"Ritorna l'etichetta della classe dopo ogni step\"\"\"\n",
    "        return np.where(self.net_input(X) > 0, 1, -1)"
   ]
  },
  {
   "cell_type": "code",
   "execution_count": 7,
   "id": "898e342d",
   "metadata": {},
   "outputs": [
    {
     "name": "stdout",
     "output_type": "stream",
     "text": [
      "URL: https://archive.ics.uci.edu\\ml\\machine-learning-databases\\iris\\iris.data\n"
     ]
    }
   ],
   "source": [
    "s = os.path.join(\"https://archive.ics.uci.edu\", \n",
    "                \"ml\",\n",
    "                \"machine-learning-databases\",\n",
    "                \"iris\",\n",
    "                \"iris.data\")\n",
    "print(\"URL:\", s)"
   ]
  },
  {
   "cell_type": "code",
   "execution_count": 23,
   "id": "7e4a5c20",
   "metadata": {},
   "outputs": [],
   "source": [
    "DATA_PATH = r\"C:\\Users\\simon\\OneDrive\\Desktop\\Formazione\\Perceptron\\data\\in\\iris.data\""
   ]
  },
  {
   "cell_type": "code",
   "execution_count": 29,
   "id": "d04140ea",
   "metadata": {},
   "outputs": [],
   "source": [
    "df = pd.read_table(DATA_PATH, header=None, encoding=\"utf-8\", sep=\",\")"
   ]
  },
  {
   "cell_type": "code",
   "execution_count": 31,
   "id": "e063e948",
   "metadata": {},
   "outputs": [
    {
     "data": {
      "text/html": [
       "<div>\n",
       "<style scoped>\n",
       "    .dataframe tbody tr th:only-of-type {\n",
       "        vertical-align: middle;\n",
       "    }\n",
       "\n",
       "    .dataframe tbody tr th {\n",
       "        vertical-align: top;\n",
       "    }\n",
       "\n",
       "    .dataframe thead th {\n",
       "        text-align: right;\n",
       "    }\n",
       "</style>\n",
       "<table border=\"1\" class=\"dataframe\">\n",
       "  <thead>\n",
       "    <tr style=\"text-align: right;\">\n",
       "      <th></th>\n",
       "      <th>0</th>\n",
       "      <th>1</th>\n",
       "      <th>2</th>\n",
       "      <th>3</th>\n",
       "      <th>4</th>\n",
       "    </tr>\n",
       "  </thead>\n",
       "  <tbody>\n",
       "    <tr>\n",
       "      <th>0</th>\n",
       "      <td>5.1</td>\n",
       "      <td>3.5</td>\n",
       "      <td>1.4</td>\n",
       "      <td>0.2</td>\n",
       "      <td>Iris-setosa</td>\n",
       "    </tr>\n",
       "    <tr>\n",
       "      <th>1</th>\n",
       "      <td>4.9</td>\n",
       "      <td>3.0</td>\n",
       "      <td>1.4</td>\n",
       "      <td>0.2</td>\n",
       "      <td>Iris-setosa</td>\n",
       "    </tr>\n",
       "    <tr>\n",
       "      <th>2</th>\n",
       "      <td>4.7</td>\n",
       "      <td>3.2</td>\n",
       "      <td>1.3</td>\n",
       "      <td>0.2</td>\n",
       "      <td>Iris-setosa</td>\n",
       "    </tr>\n",
       "    <tr>\n",
       "      <th>3</th>\n",
       "      <td>4.6</td>\n",
       "      <td>3.1</td>\n",
       "      <td>1.5</td>\n",
       "      <td>0.2</td>\n",
       "      <td>Iris-setosa</td>\n",
       "    </tr>\n",
       "    <tr>\n",
       "      <th>4</th>\n",
       "      <td>5.0</td>\n",
       "      <td>3.6</td>\n",
       "      <td>1.4</td>\n",
       "      <td>0.2</td>\n",
       "      <td>Iris-setosa</td>\n",
       "    </tr>\n",
       "  </tbody>\n",
       "</table>\n",
       "</div>"
      ],
      "text/plain": [
       "     0    1    2    3            4\n",
       "0  5.1  3.5  1.4  0.2  Iris-setosa\n",
       "1  4.9  3.0  1.4  0.2  Iris-setosa\n",
       "2  4.7  3.2  1.3  0.2  Iris-setosa\n",
       "3  4.6  3.1  1.5  0.2  Iris-setosa\n",
       "4  5.0  3.6  1.4  0.2  Iris-setosa"
      ]
     },
     "execution_count": 31,
     "metadata": {},
     "output_type": "execute_result"
    }
   ],
   "source": [
    "df.head()"
   ]
  },
  {
   "cell_type": "code",
   "execution_count": 32,
   "id": "1db0677d",
   "metadata": {},
   "outputs": [
    {
     "data": {
      "text/plain": [
       "(150, 5)"
      ]
     },
     "execution_count": 32,
     "metadata": {},
     "output_type": "execute_result"
    }
   ],
   "source": [
    "df.shape"
   ]
  },
  {
   "cell_type": "code",
   "execution_count": 33,
   "id": "f24de3a3",
   "metadata": {},
   "outputs": [
    {
     "data": {
      "text/html": [
       "<div>\n",
       "<style scoped>\n",
       "    .dataframe tbody tr th:only-of-type {\n",
       "        vertical-align: middle;\n",
       "    }\n",
       "\n",
       "    .dataframe tbody tr th {\n",
       "        vertical-align: top;\n",
       "    }\n",
       "\n",
       "    .dataframe thead th {\n",
       "        text-align: right;\n",
       "    }\n",
       "</style>\n",
       "<table border=\"1\" class=\"dataframe\">\n",
       "  <thead>\n",
       "    <tr style=\"text-align: right;\">\n",
       "      <th></th>\n",
       "      <th>0</th>\n",
       "      <th>1</th>\n",
       "      <th>2</th>\n",
       "      <th>3</th>\n",
       "      <th>4</th>\n",
       "    </tr>\n",
       "  </thead>\n",
       "  <tbody>\n",
       "    <tr>\n",
       "      <th>145</th>\n",
       "      <td>6.7</td>\n",
       "      <td>3.0</td>\n",
       "      <td>5.2</td>\n",
       "      <td>2.3</td>\n",
       "      <td>Iris-virginica</td>\n",
       "    </tr>\n",
       "    <tr>\n",
       "      <th>146</th>\n",
       "      <td>6.3</td>\n",
       "      <td>2.5</td>\n",
       "      <td>5.0</td>\n",
       "      <td>1.9</td>\n",
       "      <td>Iris-virginica</td>\n",
       "    </tr>\n",
       "    <tr>\n",
       "      <th>147</th>\n",
       "      <td>6.5</td>\n",
       "      <td>3.0</td>\n",
       "      <td>5.2</td>\n",
       "      <td>2.0</td>\n",
       "      <td>Iris-virginica</td>\n",
       "    </tr>\n",
       "    <tr>\n",
       "      <th>148</th>\n",
       "      <td>6.2</td>\n",
       "      <td>3.4</td>\n",
       "      <td>5.4</td>\n",
       "      <td>2.3</td>\n",
       "      <td>Iris-virginica</td>\n",
       "    </tr>\n",
       "    <tr>\n",
       "      <th>149</th>\n",
       "      <td>5.9</td>\n",
       "      <td>3.0</td>\n",
       "      <td>5.1</td>\n",
       "      <td>1.8</td>\n",
       "      <td>Iris-virginica</td>\n",
       "    </tr>\n",
       "  </tbody>\n",
       "</table>\n",
       "</div>"
      ],
      "text/plain": [
       "       0    1    2    3               4\n",
       "145  6.7  3.0  5.2  2.3  Iris-virginica\n",
       "146  6.3  2.5  5.0  1.9  Iris-virginica\n",
       "147  6.5  3.0  5.2  2.0  Iris-virginica\n",
       "148  6.2  3.4  5.4  2.3  Iris-virginica\n",
       "149  5.9  3.0  5.1  1.8  Iris-virginica"
      ]
     },
     "execution_count": 33,
     "metadata": {},
     "output_type": "execute_result"
    }
   ],
   "source": [
    "df.tail()"
   ]
  },
  {
   "cell_type": "code",
   "execution_count": 40,
   "id": "943cb610",
   "metadata": {},
   "outputs": [],
   "source": [
    "#estraggo solo le prime 100 righe del dataset che corrispondono alle sole 2 classi\n",
    "#Iris-Setosa ed Iris-Versicolor\n",
    "#NB: Ricordiamoci che il Perceptron è un classificatore binario, quindi pur potendo utilizzare tutte le features che vogliamo\n",
    "# Le classi devono essere SOLO 2 (si può implementare per la multi-class tramite l'approccio OvA (One VS All))\n",
    "\n",
    "y = df.iloc[0:100, 4].values\n",
    "y = np.where(y == \"Iris-setosa\", -1, 1) #trasformo le label da cateogriche a numeriche\n",
    "\n",
    "X = df.iloc[0:100, [0, 2]].values #Estraiamo solo le features lungezza del sepalo e lunghezza del petalo"
   ]
  },
  {
   "cell_type": "code",
   "execution_count": 58,
   "id": "c34ed6c8",
   "metadata": {},
   "outputs": [
    {
     "data": {
      "image/png": "[encoded data removed]",
      "text/plain": [
       "<Figure size 432x288 with 1 Axes>"
      ]
     },
     "metadata": {
      "needs_background": "light"
     },
     "output_type": "display_data"
    }
   ],
   "source": [
    "plt.scatter(X[:50, 0], X[:50, 1],\n",
    "           color=\"red\",\n",
    "           marker=\"o\",\n",
    "           label=\"Setosa\",\n",
    "           )\n",
    "plt.scatter(X[50:100, 0], X[50:100, 1],\n",
    "           color=\"blue\",\n",
    "           marker=\"x\",\n",
    "           label=\"Versicolor\")\n",
    "\n",
    "plt.xlabel(\"Sepal Lenght in cm\")\n",
    "plt.ylabel(\"Petal Lenght in cm\")\n",
    "plt.legend(loc=\"upper left\")\n",
    "plt.show()"
   ]
  },
  {
   "cell_type": "code",
   "execution_count": 65,
   "id": "feadcf8f",
   "metadata": {},
   "outputs": [
    {
     "data": {
      "text/plain": [
       "<__main__.Perceptron at 0x19fb4a02730>"
      ]
     },
     "execution_count": 65,
     "metadata": {},
     "output_type": "execute_result"
    }
   ],
   "source": [
    "perceptron = Perceptron(eta=0.01, n_iter=10)\n",
    "perceptron.fit(X, y)"
   ]
  },
  {
   "cell_type": "code",
   "execution_count": 67,
   "id": "50608bcd",
   "metadata": {},
   "outputs": [
    {
     "data": {
      "image/png": "[encoded data removed]",
      "text/plain": [
       "<Figure size 432x288 with 1 Axes>"
      ]
     },
     "metadata": {
      "needs_background": "light"
     },
     "output_type": "display_data"
    }
   ],
   "source": [
    "plt.plot(range(1, len(perceptron.errors_) +1),\n",
    "        perceptron.errors_,\n",
    "        marker=\"o\"\n",
    "        )\n",
    "plt.xlabel(\"Epoche\")\n",
    "plt.ylabel(\"Numero di aggiornamento pesi\")\n",
    "plt.show()"
   ]
  },
  {
   "cell_type": "code",
   "execution_count": 78,
   "id": "07c61b96",
   "metadata": {},
   "outputs": [],
   "source": [
    "def plot_decision_regions(X, y, classifier,test_idx=None, resolution=0.02):\n",
    "    #setup marker generator and color map\n",
    "    markers = (\"s\", \"x\", \"o\", \"^\", \"v\")\n",
    "    colors = (\"red\", \"blue\", \"lightgreen\", \"gray\", \"cyan\")\n",
    "    cmap = ListedColormap(colors[:len(np.unique(y))])\n",
    "    \n",
    "    #plot decision surface\n",
    "    x1_min, x1_max = X[:, 0].min() -1, X[:, 0].max() +1\n",
    "    x2_min, x2_max = X[:, 1].min() -1, X[:, 1].max() +1\n",
    "    xx1, xx2 = np.meshgrid(np.arange(x1_min, x1_max, resolution),\n",
    "                          np.arange(x2_min, x2_max, resolution))\n",
    "    Z = classifier.predict(np.array([xx1.ravel(), xx2.ravel()]).T)\n",
    "    Z = Z.reshape(xx1.shape)\n",
    "    \n",
    "    plt.contourf(xx1, xx2, Z, alpha=0.3, cmap=cmap)\n",
    "    plt.xlim(xx1.min(), xx1.max())\n",
    "    plt.ylim(xx2.min(), xx2.max())\n",
    "    \n",
    "    #plot class examples:\n",
    "    for idx, classe in enumerate(np.unique(y)):\n",
    "        plt.scatter(x=X[y == classe, 0],\n",
    "                   y=X[y == classe, 1],\n",
    "                   alpha=0.8,\n",
    "                   c=colors[idx],\n",
    "                   marker=markers[idx],\n",
    "                   label=classe,\n",
    "                   edgecolors=\"black\")\n",
    "            #Highlight test samples\n",
    "    if test_idx:\n",
    "        #plot all samples\n",
    "        X_test, y_test = X[test_idx, :], y[test_idx]\n",
    "\n",
    "        plt.scatter(X_test[:,0], X_test[:,1], c ='', edgecolor = 'black',\n",
    "        alpha=1.0, linewidth=1, marker='o', s=100, label='test set')\n",
    "        "
   ]
  },
  {
   "cell_type": "code",
   "execution_count": 79,
   "id": "e1c6809f",
   "metadata": {},
   "outputs": [
    {
     "name": "stderr",
     "output_type": "stream",
     "text": [
      "<ipython-input-78-0e1b7482a773>:21: UserWarning: You passed a edgecolor/edgecolors ('black') for an unfilled marker ('x').  Matplotlib is ignoring the edgecolor in favor of the facecolor.  This behavior may change in the future.\n",
      "  plt.scatter(x=X[y == classe, 0],\n"
     ]
    },
    {
     "data": {
      "image/png": "[encoded data removed]",
      "text/plain": [
       "<Figure size 432x288 with 1 Axes>"
      ]
     },
     "metadata": {
      "needs_background": "light"
     },
     "output_type": "display_data"
    }
   ],
   "source": [
    "plot_decision_regions(X, y, classifier=perceptron)\n",
    "plt.xlabel(\"sepal lenght in cm\")\n",
    "plt.ylabel(\"petal lenght in cm\")\n",
    "plt.legend(loc=\"upper left\")\n",
    "plt.show()"
   ]
  },
  {
   "cell_type": "code",
   "execution_count": null,
   "id": "cb990864",
   "metadata": {},
   "outputs": [],
   "source": []
  }
 ],
 "metadata": {
  "kernelspec": {
   "display_name": "Python 3",
   "language": "python",
   "name": "python3"
  },
  "language_info": {
   "codemirror_mode": {
    "name": "ipython",
    "version": 3
   },
   "file_extension": ".py",
   "mimetype": "text/x-python",
   "name": "python",
   "nbconvert_exporter": "python",
   "pygments_lexer": "ipython3",
   "version": "3.9.2"
  }
 },
 "nbformat": 4,
 "nbformat_minor": 5
}
